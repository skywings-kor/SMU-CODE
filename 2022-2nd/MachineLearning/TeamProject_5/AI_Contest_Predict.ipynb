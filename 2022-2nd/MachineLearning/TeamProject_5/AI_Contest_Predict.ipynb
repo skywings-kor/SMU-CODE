{
 "cells": [
  {
   "cell_type": "code",
   "execution_count": 1,
   "id": "cf7c24be-bdf5-43b9-86b0-c0fedffb78ad",
   "metadata": {},
   "outputs": [
    {
     "name": "stdout",
     "output_type": "stream",
     "text": [
      "/data/yolov5\n",
      "\u001b[34m\u001b[1mdetect: \u001b[0mweights=['AI_Contest.pt'], source=contest1.jpg, data=data/coco128.yaml, imgsz=[640, 640], conf_thres=0.5, iou_thres=0.45, max_det=1000, device=, view_img=False, save_txt=False, save_conf=False, save_crop=False, nosave=False, classes=None, agnostic_nms=False, augment=False, visualize=False, update=False, project=runs/detect, name=exp, exist_ok=False, line_thickness=3, hide_labels=False, hide_conf=False, half=False, dnn=False, vid_stride=1\n",
      "fatal: detected dubious ownership in repository at '/data/yolov5'\n",
      "To add an exception for this directory, call:\n",
      "\n",
      "\tgit config --global --add safe.directory /data/yolov5\n",
      "YOLOv5 🚀 2022-9-30 Python-3.8.10 torch-1.12.1+cu102 CUDA:0 (NVIDIA GeForce RTX 2080 Ti, 11020MiB)\n",
      "\n",
      "Fusing layers... \n",
      "YOLOv5m summary: 212 layers, 20873139 parameters, 0 gradients, 47.9 GFLOPs\n",
      "image 1/1 /data/yolov5/contest1.jpg: 544x640 1 double, 9.3ms\n",
      "Speed: 0.4ms pre-process, 9.3ms inference, 0.9ms NMS per image at shape (1, 3, 640, 640)\n",
      "Results saved to \u001b[1mruns/detect/exp4\u001b[0m\n"
     ]
    }
   ],
   "source": [
    "#이거는 많이 봤으니 패스\n",
    "%cd /data/yolov5\n",
    "\n",
    "#자 학습을 다 했으면 valid에 적혀있는 사진 결과 말고도 직접 학습 가중치 파일을 이용하여 검증 해볼 수 있어야겠죠?\n",
    "#python모듈이라 이거 쓰고\n",
    "# detect.py가 뭐냐면 이제 학습이 다 되었으면 detect.py가 검증할 때 쓰는 모듈이라고 생각하면 되는데\n",
    "#이 파일에서 해당 실행하는 컴퓨터에 CAM이 있으면 해당 카메라로 학습된 결과를 도출해주는거고(라이브 영상으로 해줌)\n",
    "#나는 여기서 detect.py 모듈에서 지원하는 사용자가 원하는 이미지를 넣어서 해당 이미지에서 학습된 데이터를 바탕으로 검출하는 것을 진행할거야\n",
    "#어쨋든 해당 파일을 참조한다고 하고\n",
    "\n",
    "#weights는 학습할때 언급했었는데 그 학습이 완료된 가중치 파일 이름을 내가 AI_Contest로 지은거고 가중치는 다 pt 파일이라서 이 점 꼭 알아두삼\n",
    "\n",
    "#conf는 그 이미지 검출을 하고나면 그 인공지능이 생각했을 때 해당 이미지에서 해당 구역 안에 있는게 ~~~다 라는 그 이거일거다 라는 확신도를 퍼센테이지로 나타나는데\n",
    "#해당 퍼센테이지가 50% 이상일 경우에만 이미지 그 라벨이 되어 우리에게 보여지는거야\n",
    "#만일 그냥 conf없으면 1~100% 다 나타나고,\n",
    "#conf가 0.8 이면 80% 이상인 것만 이미지 라벨이 되어 나타나겠죠\n",
    "\n",
    "#source는 그냥 말그대로 소스, AI_Contest 가중치를 이용하여 어떤 이미지 파일에서 검출해볼건지 해당 이미지 루트를 넣어주면됨\n",
    "#나는 해당 이미지 일부러 그냥 같은 yolov5 폴더안에 넣어놔서 contest1.jpg로 바로 그냥 상대경로 없이 파일이름만 넣었어\n",
    "\n",
    "#밑에 것들도 다 똑같으니 염두해둬!\n",
    "!python detect.py --weights AI_Contest.pt --img 640 --conf 0.5 --source contest1.jpg"
   ]
  },
  {
   "cell_type": "code",
   "execution_count": 2,
   "id": "a00c28ca-db91-4b8b-a70e-cca0cdc56d52",
   "metadata": {},
   "outputs": [
    {
     "name": "stdout",
     "output_type": "stream",
     "text": [
      "/data/yolov5\n",
      "\u001b[34m\u001b[1mdetect: \u001b[0mweights=['AI_Contest.pt'], source=contest2.jpg, data=data/coco128.yaml, imgsz=[640, 640], conf_thres=0.5, iou_thres=0.45, max_det=1000, device=, view_img=False, save_txt=False, save_conf=False, save_crop=False, nosave=False, classes=None, agnostic_nms=False, augment=False, visualize=False, update=False, project=runs/detect, name=exp, exist_ok=False, line_thickness=3, hide_labels=False, hide_conf=False, half=False, dnn=False, vid_stride=1\n",
      "fatal: detected dubious ownership in repository at '/data/yolov5'\n",
      "To add an exception for this directory, call:\n",
      "\n",
      "\tgit config --global --add safe.directory /data/yolov5\n",
      "YOLOv5 🚀 2022-9-30 Python-3.8.10 torch-1.12.1+cu102 CUDA:0 (NVIDIA GeForce RTX 2080 Ti, 11020MiB)\n",
      "\n",
      "Fusing layers... \n",
      "YOLOv5m summary: 212 layers, 20873139 parameters, 0 gradients, 47.9 GFLOPs\n",
      "image 1/1 /data/yolov5/contest2.jpg: 544x640 1 livet, 1 double, 9.3ms\n",
      "Speed: 0.4ms pre-process, 9.3ms inference, 0.9ms NMS per image at shape (1, 3, 640, 640)\n",
      "Results saved to \u001b[1mruns/detect/exp5\u001b[0m\n"
     ]
    }
   ],
   "source": [
    "#이중선\n",
    "%cd /data/yolov5\n",
    "!python detect.py --weights AI_Contest.pt --img 640 --conf 0.5 --source contest2.jpg"
   ]
  },
  {
   "cell_type": "code",
   "execution_count": 3,
   "id": "0b4c8b78-5968-405b-aa5c-13a50bce6d8f",
   "metadata": {},
   "outputs": [
    {
     "name": "stdout",
     "output_type": "stream",
     "text": [
      "/data/yolov5\n",
      "\u001b[34m\u001b[1mdetect: \u001b[0mweights=['AI_Contest.pt'], source=contest3.jpg, data=data/coco128.yaml, imgsz=[640, 640], conf_thres=0.5, iou_thres=0.45, max_det=1000, device=, view_img=False, save_txt=False, save_conf=False, save_crop=False, nosave=False, classes=None, agnostic_nms=False, augment=False, visualize=False, update=False, project=runs/detect, name=exp, exist_ok=False, line_thickness=3, hide_labels=False, hide_conf=False, half=False, dnn=False, vid_stride=1\n",
      "fatal: detected dubious ownership in repository at '/data/yolov5'\n",
      "To add an exception for this directory, call:\n",
      "\n",
      "\tgit config --global --add safe.directory /data/yolov5\n",
      "YOLOv5 🚀 2022-9-30 Python-3.8.10 torch-1.12.1+cu102 CUDA:0 (NVIDIA GeForce RTX 2080 Ti, 11020MiB)\n",
      "\n",
      "Fusing layers... \n",
      "YOLOv5m summary: 212 layers, 20873139 parameters, 0 gradients, 47.9 GFLOPs\n",
      "image 1/1 /data/yolov5/contest3.jpg: 544x640 1 livet, 1 knurling, 9.3ms\n",
      "Speed: 0.4ms pre-process, 9.3ms inference, 0.9ms NMS per image at shape (1, 3, 640, 640)\n",
      "Results saved to \u001b[1mruns/detect/exp6\u001b[0m\n"
     ]
    }
   ],
   "source": [
    "#양품\n",
    "%cd /data/yolov5\n",
    "!python detect.py --weights AI_Contest.pt --img 640 --conf 0.5 --source contest3.jpg"
   ]
  },
  {
   "cell_type": "code",
   "execution_count": 4,
   "id": "669fd725-626b-475f-af31-5f0bd0523312",
   "metadata": {},
   "outputs": [
    {
     "name": "stdout",
     "output_type": "stream",
     "text": [
      "/data/yolov5\n",
      "\u001b[34m\u001b[1mdetect: \u001b[0mweights=['AI_Contest.pt'], source=contest4.jpg, data=data/coco128.yaml, imgsz=[640, 640], conf_thres=0.5, iou_thres=0.45, max_det=1000, device=, view_img=False, save_txt=False, save_conf=False, save_crop=False, nosave=False, classes=None, agnostic_nms=False, augment=False, visualize=False, update=False, project=runs/detect, name=exp, exist_ok=False, line_thickness=3, hide_labels=False, hide_conf=False, half=False, dnn=False, vid_stride=1\n",
      "fatal: detected dubious ownership in repository at '/data/yolov5'\n",
      "To add an exception for this directory, call:\n",
      "\n",
      "\tgit config --global --add safe.directory /data/yolov5\n",
      "YOLOv5 🚀 2022-9-30 Python-3.8.10 torch-1.12.1+cu102 CUDA:0 (NVIDIA GeForce RTX 2080 Ti, 11020MiB)\n",
      "\n",
      "Fusing layers... \n",
      "YOLOv5m summary: 212 layers, 20873139 parameters, 0 gradients, 47.9 GFLOPs\n",
      "image 1/1 /data/yolov5/contest4.jpg: 544x640 2 cracks, 9.3ms\n",
      "Speed: 0.4ms pre-process, 9.3ms inference, 0.9ms NMS per image at shape (1, 3, 640, 640)\n",
      "Results saved to \u001b[1mruns/detect/exp7\u001b[0m\n"
     ]
    }
   ],
   "source": [
    "#찍힘\n",
    "%cd /data/yolov5\n",
    "!python detect.py --weights AI_Contest.pt --img 640 --conf 0.5 --source contest4.jpg"
   ]
  },
  {
   "cell_type": "code",
   "execution_count": 6,
   "id": "81b33ac8-26f2-46eb-b304-aabd9654054e",
   "metadata": {},
   "outputs": [
    {
     "name": "stdout",
     "output_type": "stream",
     "text": [
      "/data/yolov5\n",
      "\u001b[34m\u001b[1mdetect: \u001b[0mweights=['AI_Contest.pt'], source=contest5.jpg, data=data/coco128.yaml, imgsz=[640, 640], conf_thres=0.5, iou_thres=0.45, max_det=1000, device=, view_img=False, save_txt=False, save_conf=False, save_crop=False, nosave=False, classes=None, agnostic_nms=False, augment=False, visualize=False, update=False, project=runs/detect, name=exp, exist_ok=False, line_thickness=3, hide_labels=False, hide_conf=False, half=False, dnn=False, vid_stride=1\n",
      "fatal: detected dubious ownership in repository at '/data/yolov5'\n",
      "To add an exception for this directory, call:\n",
      "\n",
      "\tgit config --global --add safe.directory /data/yolov5\n",
      "YOLOv5 🚀 2022-9-30 Python-3.8.10 torch-1.12.1+cu102 CUDA:0 (NVIDIA GeForce RTX 2080 Ti, 11020MiB)\n",
      "\n",
      "Fusing layers... \n",
      "YOLOv5m summary: 212 layers, 20873139 parameters, 0 gradients, 47.9 GFLOPs\n",
      "image 1/1 /data/yolov5/contest5.jpg: 544x640 1 livet, 1 double, 9.4ms\n",
      "Speed: 0.4ms pre-process, 9.4ms inference, 0.9ms NMS per image at shape (1, 3, 640, 640)\n",
      "Results saved to \u001b[1mruns/detect/exp9\u001b[0m\n"
     ]
    }
   ],
   "source": [
    "#이중선2\n",
    "%cd /data/yolov5\n",
    "!python detect.py --weights AI_Contest.pt --img 640 --conf 0.5 --source contest5.jpg"
   ]
  },
  {
   "cell_type": "code",
   "execution_count": 7,
   "id": "140d6bd5-cedb-4b51-9c67-f18843c2ccf5",
   "metadata": {},
   "outputs": [
    {
     "name": "stdout",
     "output_type": "stream",
     "text": [
      "/data/yolov5\n",
      "\u001b[34m\u001b[1mdetect: \u001b[0mweights=['AI_Contest.pt'], source=contest6.jpg, data=data/coco128.yaml, imgsz=[640, 640], conf_thres=0.5, iou_thres=0.45, max_det=1000, device=, view_img=False, save_txt=False, save_conf=False, save_crop=False, nosave=False, classes=None, agnostic_nms=False, augment=False, visualize=False, update=False, project=runs/detect, name=exp, exist_ok=False, line_thickness=3, hide_labels=False, hide_conf=False, half=False, dnn=False, vid_stride=1\n",
      "fatal: detected dubious ownership in repository at '/data/yolov5'\n",
      "To add an exception for this directory, call:\n",
      "\n",
      "\tgit config --global --add safe.directory /data/yolov5\n",
      "YOLOv5 🚀 2022-9-30 Python-3.8.10 torch-1.12.1+cu102 CUDA:0 (NVIDIA GeForce RTX 2080 Ti, 11020MiB)\n",
      "\n",
      "Fusing layers... \n",
      "YOLOv5m summary: 212 layers, 20873139 parameters, 0 gradients, 47.9 GFLOPs\n",
      "image 1/1 /data/yolov5/contest6.jpg: 544x640 2 pulls, 9.4ms\n",
      "Speed: 0.4ms pre-process, 9.4ms inference, 0.9ms NMS per image at shape (1, 3, 640, 640)\n",
      "Results saved to \u001b[1mruns/detect/exp10\u001b[0m\n"
     ]
    }
   ],
   "source": [
    "#밀림\n",
    "%cd /data/yolov5\n",
    "!python detect.py --weights AI_Contest.pt --img 640 --conf 0.5 --source contest6.jpg"
   ]
  },
  {
   "cell_type": "code",
   "execution_count": 8,
   "id": "ad5a8cf4-db3b-4bcf-9e94-f6e7fd775cec",
   "metadata": {},
   "outputs": [
    {
     "name": "stdout",
     "output_type": "stream",
     "text": [
      "/data/yolov5\n",
      "\u001b[34m\u001b[1mdetect: \u001b[0mweights=['AI_Contest.pt'], source=contest7.jpg, data=data/coco128.yaml, imgsz=[640, 640], conf_thres=0.5, iou_thres=0.45, max_det=1000, device=, view_img=False, save_txt=False, save_conf=False, save_crop=False, nosave=False, classes=None, agnostic_nms=False, augment=False, visualize=False, update=False, project=runs/detect, name=exp, exist_ok=False, line_thickness=3, hide_labels=False, hide_conf=False, half=False, dnn=False, vid_stride=1\n",
      "fatal: detected dubious ownership in repository at '/data/yolov5'\n",
      "To add an exception for this directory, call:\n",
      "\n",
      "\tgit config --global --add safe.directory /data/yolov5\n",
      "YOLOv5 🚀 2022-9-30 Python-3.8.10 torch-1.12.1+cu102 CUDA:0 (NVIDIA GeForce RTX 2080 Ti, 11020MiB)\n",
      "\n",
      "Fusing layers... \n",
      "YOLOv5m summary: 212 layers, 20873139 parameters, 0 gradients, 47.9 GFLOPs\n",
      "image 1/1 /data/yolov5/contest7.jpg: 544x640 1 livet, 1 knurling, 9.3ms\n",
      "Speed: 0.3ms pre-process, 9.3ms inference, 0.9ms NMS per image at shape (1, 3, 640, 640)\n",
      "Results saved to \u001b[1mruns/detect/exp11\u001b[0m\n"
     ]
    }
   ],
   "source": [
    "#미압입\n",
    "%cd /data/yolov5\n",
    "!python detect.py --weights AI_Contest.pt --img 640 --conf 0.5 --source contest7.jpg"
   ]
  },
  {
   "cell_type": "code",
   "execution_count": null,
   "id": "36451725-6d7c-4426-9ec2-f2cf73799f0b",
   "metadata": {},
   "outputs": [],
   "source": []
  }
 ],
 "metadata": {
  "kernelspec": {
   "display_name": "Python 3 (ipykernel)",
   "language": "python",
   "name": "python3"
  },
  "language_info": {
   "codemirror_mode": {
    "name": "ipython",
    "version": 3
   },
   "file_extension": ".py",
   "mimetype": "text/x-python",
   "name": "python",
   "nbconvert_exporter": "python",
   "pygments_lexer": "ipython3",
   "version": "3.8.10"
  }
 },
 "nbformat": 4,
 "nbformat_minor": 5
}
