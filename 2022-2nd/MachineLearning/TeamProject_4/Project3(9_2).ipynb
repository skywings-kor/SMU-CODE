{
  "nbformat": 4,
  "nbformat_minor": 0,
  "metadata": {
    "colab": {
      "provenance": []
    },
    "kernelspec": {
      "name": "python3",
      "display_name": "Python 3"
    },
    "language_info": {
      "name": "python"
    },
    "accelerator": "GPU",
    "gpuClass": "standard"
  },
  "cells": [
    {
      "cell_type": "code",
      "execution_count": 6,
      "metadata": {
        "id": "ja6TbEgfJBct"
      },
      "outputs": [],
      "source": [
        "import tensorflow as tf\n",
        "from tensorflow import keras\n",
        "import matplotlib.pyplot as plt\n",
        "#학습이미지와 학습 이미지의 라벨링 그리고 테스트 이미지와 테스트 이미지의 라벨링 데이터를 가져와 저장합니다\n",
        "(train_image, train_label), (test_image, test_label) = keras.datasets.mnist.load_data()"
      ]
    },
    {
      "cell_type": "code",
      "source": [
        "#데이터 전처리 진행합니다\n",
        "#학습 이미지는 6만개 사용하여 학습하라 했으니 6만개 입력!\n",
        "train_images = train_image.reshape((60000, 28, 28, 1))\n",
        "\n",
        "#테스트 이미지는  1만개 사용하여 정확도 검증하라하여 1만개 입력!\n",
        "test_image = test_image.reshape((10000, 28, 28, 1))\n",
        "\n",
        "\n",
        "train_image, test_image = train_image / 255.0, test_image / 255.0"
      ],
      "metadata": {
        "id": "W6a9DLDxJqKc"
      },
      "execution_count": 14,
      "outputs": []
    },
    {
      "cell_type": "code",
      "source": [
        "#합성곰 신경만 구조\n",
        "\n",
        "model = keras.models.Sequential()\n",
        "model.add(keras.layers.Conv2D(filters=32,kernel_size=(3,3),padding='same',strides=2,activation='relu', input_shape=(28, 28, 1)))\n",
        "model.add(keras.layers.MaxPooling2D((2,2)))\n",
        "model.add(keras.layers.Conv2D(filters=64,kernel_size=(3,3),padding='same',strides=2,activation='relu'))\n",
        "model.add(keras.layers.MaxPooling2D((2,2)))\n",
        "model.add(keras.layers.Conv2D(filters=128,kernel_size=(3,3),padding='same',strides=2,activation='relu'))\n",
        "\n",
        "model.add(keras.layers.Flatten())\n",
        "model.add(keras.layers.Dense(128,activation='relu'))\n",
        "model.add(keras.layers.Dense(32,activation='relu'))\n",
        "model.add(keras.layers.Dense(10,activation='softmax'))\n",
        "\n",
        "model.summary()"
      ],
      "metadata": {
        "colab": {
          "base_uri": "https://localhost:8080/"
        },
        "id": "dy6T920gLw9C",
        "outputId": "bcad25a0-5d0f-4ce1-c05f-c9f69433d54d"
      },
      "execution_count": 15,
      "outputs": [
        {
          "output_type": "stream",
          "name": "stdout",
          "text": [
            "Model: \"sequential_1\"\n",
            "_________________________________________________________________\n",
            " Layer (type)                Output Shape              Param #   \n",
            "=================================================================\n",
            " conv2d_3 (Conv2D)           (None, 14, 14, 32)        320       \n",
            "                                                                 \n",
            " max_pooling2d_2 (MaxPooling  (None, 7, 7, 32)         0         \n",
            " 2D)                                                             \n",
            "                                                                 \n",
            " conv2d_4 (Conv2D)           (None, 4, 4, 64)          18496     \n",
            "                                                                 \n",
            " max_pooling2d_3 (MaxPooling  (None, 2, 2, 64)         0         \n",
            " 2D)                                                             \n",
            "                                                                 \n",
            " conv2d_5 (Conv2D)           (None, 1, 1, 128)         73856     \n",
            "                                                                 \n",
            " flatten_1 (Flatten)         (None, 128)               0         \n",
            "                                                                 \n",
            " dense_3 (Dense)             (None, 128)               16512     \n",
            "                                                                 \n",
            " dense_4 (Dense)             (None, 32)                4128      \n",
            "                                                                 \n",
            " dense_5 (Dense)             (None, 10)                330       \n",
            "                                                                 \n",
            "=================================================================\n",
            "Total params: 113,642\n",
            "Trainable params: 113,642\n",
            "Non-trainable params: 0\n",
            "_________________________________________________________________\n"
          ]
        }
      ]
    },
    {
      "cell_type": "code",
      "source": [
        "model.compile(optimizer='adam',\n",
        "              loss='sparse_categorical_crossentropy',\n",
        "              metrics=['accuracy'])"
      ],
      "metadata": {
        "id": "pcQLqhnaMhMx"
      },
      "execution_count": 16,
      "outputs": []
    },
    {
      "cell_type": "code",
      "source": [
        "history=model.fit(train_image, train_label, epochs=10,validation_split=0.25)"
      ],
      "metadata": {
        "colab": {
          "base_uri": "https://localhost:8080/"
        },
        "id": "jpWqBHySSS6k",
        "outputId": "ac2da9d5-5bd6-47e8-c6f0-b856c859701c"
      },
      "execution_count": 17,
      "outputs": [
        {
          "output_type": "stream",
          "name": "stdout",
          "text": [
            "Epoch 1/10\n",
            "1407/1407 [==============================] - 7s 4ms/step - loss: 0.3102 - accuracy: 0.9014 - val_loss: 0.0971 - val_accuracy: 0.9691\n",
            "Epoch 2/10\n",
            "1407/1407 [==============================] - 6s 4ms/step - loss: 0.0938 - accuracy: 0.9708 - val_loss: 0.0971 - val_accuracy: 0.9702\n",
            "Epoch 3/10\n",
            "1407/1407 [==============================] - 6s 4ms/step - loss: 0.0677 - accuracy: 0.9792 - val_loss: 0.0755 - val_accuracy: 0.9769\n",
            "Epoch 4/10\n",
            "1407/1407 [==============================] - 8s 6ms/step - loss: 0.0531 - accuracy: 0.9836 - val_loss: 0.0986 - val_accuracy: 0.9724\n",
            "Epoch 5/10\n",
            "1407/1407 [==============================] - 6s 4ms/step - loss: 0.0437 - accuracy: 0.9864 - val_loss: 0.0597 - val_accuracy: 0.9824\n",
            "Epoch 6/10\n",
            "1407/1407 [==============================] - 6s 5ms/step - loss: 0.0367 - accuracy: 0.9880 - val_loss: 0.0613 - val_accuracy: 0.9808\n",
            "Epoch 7/10\n",
            "1407/1407 [==============================] - 6s 5ms/step - loss: 0.0300 - accuracy: 0.9904 - val_loss: 0.0679 - val_accuracy: 0.9809\n",
            "Epoch 8/10\n",
            "1407/1407 [==============================] - 6s 4ms/step - loss: 0.0268 - accuracy: 0.9914 - val_loss: 0.0659 - val_accuracy: 0.9811\n",
            "Epoch 9/10\n",
            "1407/1407 [==============================] - 6s 4ms/step - loss: 0.0236 - accuracy: 0.9926 - val_loss: 0.0601 - val_accuracy: 0.9837\n",
            "Epoch 10/10\n",
            "1407/1407 [==============================] - 6s 5ms/step - loss: 0.0184 - accuracy: 0.9939 - val_loss: 0.0658 - val_accuracy: 0.9841\n"
          ]
        }
      ]
    },
    {
      "cell_type": "code",
      "source": [
        "plt.plot(history.history['loss'],'b-')\n",
        "plt.plot(history.history['val_loss'],'r--')"
      ],
      "metadata": {
        "id": "mH7zSVbJSZs3",
        "colab": {
          "base_uri": "https://localhost:8080/",
          "height": 283
        },
        "outputId": "31fd0ff0-3182-4091-82f8-73021e79123b"
      },
      "execution_count": 18,
      "outputs": [
        {
          "output_type": "execute_result",
          "data": {
            "text/plain": [
              "[<matplotlib.lines.Line2D at 0x7fe44e4d5d90>]"
            ]
          },
          "metadata": {},
          "execution_count": 18
        },
        {
          "output_type": "display_data",
          "data": {
            "text/plain": [
              "<Figure size 432x288 with 1 Axes>"
            ],
            "image/png": "[encoded data removed]"
          },
          "metadata": {
            "needs_background": "light"
          }
        }
      ]
    },
    {
      "cell_type": "code",
      "source": [
        "plt.plot(history.history['accuracy'],'b-')\n",
        "plt.plot(history.history['val_accuracy'],'r--')"
      ],
      "metadata": {
        "colab": {
          "base_uri": "https://localhost:8080/",
          "height": 283
        },
        "id": "Va5krPzfqrct",
        "outputId": "faccf0e7-870b-41a6-d041-4c787e8ff39e"
      },
      "execution_count": 20,
      "outputs": [
        {
          "output_type": "execute_result",
          "data": {
            "text/plain": [
              "[<matplotlib.lines.Line2D at 0x7fe44e403190>]"
            ]
          },
          "metadata": {},
          "execution_count": 20
        },
        {
          "output_type": "display_data",
          "data": {
            "text/plain": [
              "<Figure size 432x288 with 1 Axes>"
            ],
            "image/png": "[encoded data removed]"
          },
          "metadata": {
            "needs_background": "light"
          }
        }
      ]
    },
    {
      "cell_type": "code",
      "source": [],
      "metadata": {
        "id": "amWT6Kn9rGsr"
      },
      "execution_count": null,
      "outputs": []
    }
  ]
}