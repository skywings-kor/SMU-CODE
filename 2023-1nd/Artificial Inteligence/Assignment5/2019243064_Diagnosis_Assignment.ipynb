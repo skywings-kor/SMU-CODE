{
 "cells": [
  {
   "cell_type": "markdown",
   "id": "451ecce9-2419-48f3-87fb-54288a525e93",
   "metadata": {},
   "source": [
    "SMU- Computer Engineering 3학년 2019243064 박규민"
   ]
  },
  {
   "cell_type": "code",
   "execution_count": 256,
   "id": "946969bb-0814-4efb-abc1-fbd499f87a32",
   "metadata": {
    "tags": []
   },
   "outputs": [],
   "source": [
    "import numpy as np\n",
    "import pandas as pd\n",
    "import matplotlib.pyplot as plt\n",
    "\n",
    "#하단 문장이 분류 평가 모듈입니다.\n",
    "from sklearn.metrics import accuracy_score, precision_score, recall_score , f1_score, roc_auc_score"
   ]
  },
  {
   "cell_type": "code",
   "execution_count": 257,
   "id": "5c6c6217-f1a7-499b-9578-d5f6a3426dab",
   "metadata": {
    "tags": []
   },
   "outputs": [
    {
     "data": {
      "text/html": [
       "<div>\n",
       "<style scoped>\n",
       "    .dataframe tbody tr th:only-of-type {\n",
       "        vertical-align: middle;\n",
       "    }\n",
       "\n",
       "    .dataframe tbody tr th {\n",
       "        vertical-align: top;\n",
       "    }\n",
       "\n",
       "    .dataframe thead th {\n",
       "        text-align: right;\n",
       "    }\n",
       "</style>\n",
       "<table border=\"1\" class=\"dataframe\">\n",
       "  <thead>\n",
       "    <tr style=\"text-align: right;\">\n",
       "      <th></th>\n",
       "      <th>id</th>\n",
       "      <th>diagnosis</th>\n",
       "      <th>radius_mean</th>\n",
       "      <th>texture_mean</th>\n",
       "      <th>perimeter_mean</th>\n",
       "      <th>area_mean</th>\n",
       "      <th>smoothness_mean</th>\n",
       "      <th>compactness_mean</th>\n",
       "      <th>concavity_mean</th>\n",
       "      <th>concave points_mean</th>\n",
       "      <th>...</th>\n",
       "      <th>radius_worst</th>\n",
       "      <th>texture_worst</th>\n",
       "      <th>perimeter_worst</th>\n",
       "      <th>area_worst</th>\n",
       "      <th>smoothness_worst</th>\n",
       "      <th>compactness_worst</th>\n",
       "      <th>concavity_worst</th>\n",
       "      <th>concave points_worst</th>\n",
       "      <th>symmetry_worst</th>\n",
       "      <th>fractal_dimension_worst</th>\n",
       "    </tr>\n",
       "  </thead>\n",
       "  <tbody>\n",
       "    <tr>\n",
       "      <th>0</th>\n",
       "      <td>DonorA_0001</td>\n",
       "      <td>1</td>\n",
       "      <td>17.99</td>\n",
       "      <td>10.38</td>\n",
       "      <td>122.8</td>\n",
       "      <td>1001</td>\n",
       "      <td>0.1184</td>\n",
       "      <td>0.2776</td>\n",
       "      <td>0.3001</td>\n",
       "      <td>0.1471</td>\n",
       "      <td>...</td>\n",
       "      <td>25.38</td>\n",
       "      <td>17.33</td>\n",
       "      <td>184.6</td>\n",
       "      <td>2019</td>\n",
       "      <td>0.1622</td>\n",
       "      <td>0.6656</td>\n",
       "      <td>0.7119</td>\n",
       "      <td>0.2654</td>\n",
       "      <td>0.4601</td>\n",
       "      <td>0.1189</td>\n",
       "    </tr>\n",
       "    <tr>\n",
       "      <th>1</th>\n",
       "      <td>DonorA_0002</td>\n",
       "      <td>1</td>\n",
       "      <td>20.57</td>\n",
       "      <td>17.77</td>\n",
       "      <td>132.9</td>\n",
       "      <td>1326</td>\n",
       "      <td>0.08474</td>\n",
       "      <td>0.07864</td>\n",
       "      <td>0.0869</td>\n",
       "      <td>0.07017</td>\n",
       "      <td>...</td>\n",
       "      <td>24.99</td>\n",
       "      <td>23.41</td>\n",
       "      <td>158.8</td>\n",
       "      <td>1956</td>\n",
       "      <td>0.1238</td>\n",
       "      <td>0.1866</td>\n",
       "      <td>0.2416</td>\n",
       "      <td>0.186</td>\n",
       "      <td>0.275</td>\n",
       "      <td>0.08902</td>\n",
       "    </tr>\n",
       "    <tr>\n",
       "      <th>2</th>\n",
       "      <td>DonorA_0003</td>\n",
       "      <td>1</td>\n",
       "      <td>19.69</td>\n",
       "      <td>21.25</td>\n",
       "      <td>130</td>\n",
       "      <td>1203</td>\n",
       "      <td>0.1096</td>\n",
       "      <td>0.1599</td>\n",
       "      <td>0.1974</td>\n",
       "      <td>0.1279</td>\n",
       "      <td>...</td>\n",
       "      <td>23.57</td>\n",
       "      <td>25.53</td>\n",
       "      <td>152.5</td>\n",
       "      <td>1709</td>\n",
       "      <td>0.1444</td>\n",
       "      <td>0.4245</td>\n",
       "      <td>0.4504</td>\n",
       "      <td>0.243</td>\n",
       "      <td>0.3613</td>\n",
       "      <td>0.08758</td>\n",
       "    </tr>\n",
       "    <tr>\n",
       "      <th>3</th>\n",
       "      <td>DonorA_0004</td>\n",
       "      <td>1</td>\n",
       "      <td>11.42</td>\n",
       "      <td>20.38</td>\n",
       "      <td>77.58</td>\n",
       "      <td>386.1</td>\n",
       "      <td>0.1425</td>\n",
       "      <td>0.2839</td>\n",
       "      <td>0.2414</td>\n",
       "      <td>0.1052</td>\n",
       "      <td>...</td>\n",
       "      <td>14.91</td>\n",
       "      <td>26.5</td>\n",
       "      <td>98.87</td>\n",
       "      <td>567.7</td>\n",
       "      <td>0.2098</td>\n",
       "      <td>0.8663</td>\n",
       "      <td>0.6869</td>\n",
       "      <td>0.2575</td>\n",
       "      <td>0.6638</td>\n",
       "      <td>0.173</td>\n",
       "    </tr>\n",
       "    <tr>\n",
       "      <th>4</th>\n",
       "      <td>DonorA_0005</td>\n",
       "      <td>1</td>\n",
       "      <td>20.29</td>\n",
       "      <td>14.34</td>\n",
       "      <td>135.1</td>\n",
       "      <td>1297</td>\n",
       "      <td>0.1003</td>\n",
       "      <td>0.1328</td>\n",
       "      <td>0.198</td>\n",
       "      <td>0.1043</td>\n",
       "      <td>...</td>\n",
       "      <td>22.54</td>\n",
       "      <td>16.67</td>\n",
       "      <td>152.2</td>\n",
       "      <td>1575</td>\n",
       "      <td>0.1374</td>\n",
       "      <td>0.205</td>\n",
       "      <td>0.4</td>\n",
       "      <td>0.1625</td>\n",
       "      <td>0.2364</td>\n",
       "      <td>0.07678</td>\n",
       "    </tr>\n",
       "    <tr>\n",
       "      <th>...</th>\n",
       "      <td>...</td>\n",
       "      <td>...</td>\n",
       "      <td>...</td>\n",
       "      <td>...</td>\n",
       "      <td>...</td>\n",
       "      <td>...</td>\n",
       "      <td>...</td>\n",
       "      <td>...</td>\n",
       "      <td>...</td>\n",
       "      <td>...</td>\n",
       "      <td>...</td>\n",
       "      <td>...</td>\n",
       "      <td>...</td>\n",
       "      <td>...</td>\n",
       "      <td>...</td>\n",
       "      <td>...</td>\n",
       "      <td>...</td>\n",
       "      <td>...</td>\n",
       "      <td>...</td>\n",
       "      <td>...</td>\n",
       "      <td>...</td>\n",
       "    </tr>\n",
       "    <tr>\n",
       "      <th>564</th>\n",
       "      <td>DonorA_0565</td>\n",
       "      <td>1</td>\n",
       "      <td>21.56</td>\n",
       "      <td>22.39</td>\n",
       "      <td>142</td>\n",
       "      <td>1479</td>\n",
       "      <td>0.111</td>\n",
       "      <td>0.1159</td>\n",
       "      <td>0.2439</td>\n",
       "      <td>0.1389</td>\n",
       "      <td>...</td>\n",
       "      <td>25.45</td>\n",
       "      <td>26.4</td>\n",
       "      <td>166.1</td>\n",
       "      <td>2027</td>\n",
       "      <td>0.141</td>\n",
       "      <td>0.2113</td>\n",
       "      <td>0.4107</td>\n",
       "      <td>0.2216</td>\n",
       "      <td>0.206</td>\n",
       "      <td>0.07115</td>\n",
       "    </tr>\n",
       "    <tr>\n",
       "      <th>565</th>\n",
       "      <td>DonorA_0566</td>\n",
       "      <td>1</td>\n",
       "      <td>20.13</td>\n",
       "      <td>28.25</td>\n",
       "      <td>131.2</td>\n",
       "      <td>1261</td>\n",
       "      <td>0.0978</td>\n",
       "      <td>0.1034</td>\n",
       "      <td>0.144</td>\n",
       "      <td>0.09791</td>\n",
       "      <td>...</td>\n",
       "      <td>23.69</td>\n",
       "      <td>38.25</td>\n",
       "      <td>155</td>\n",
       "      <td>1731</td>\n",
       "      <td>0.1166</td>\n",
       "      <td>0.1922</td>\n",
       "      <td>0.3215</td>\n",
       "      <td>0.1628</td>\n",
       "      <td>0.2572</td>\n",
       "      <td>0.06637</td>\n",
       "    </tr>\n",
       "    <tr>\n",
       "      <th>566</th>\n",
       "      <td>DonorA_0567</td>\n",
       "      <td>1</td>\n",
       "      <td>16.6</td>\n",
       "      <td>28.08</td>\n",
       "      <td>108.3</td>\n",
       "      <td>858.1</td>\n",
       "      <td>0.08455</td>\n",
       "      <td>0.1023</td>\n",
       "      <td>0.09251</td>\n",
       "      <td>0.05302</td>\n",
       "      <td>...</td>\n",
       "      <td>18.98</td>\n",
       "      <td>34.12</td>\n",
       "      <td>126.7</td>\n",
       "      <td>1124</td>\n",
       "      <td>0.1139</td>\n",
       "      <td>0.3094</td>\n",
       "      <td>0.3403</td>\n",
       "      <td>0.1418</td>\n",
       "      <td>0.2218</td>\n",
       "      <td>0.0782</td>\n",
       "    </tr>\n",
       "    <tr>\n",
       "      <th>567</th>\n",
       "      <td>DonorA_0568</td>\n",
       "      <td>1</td>\n",
       "      <td>20.6</td>\n",
       "      <td>29.33</td>\n",
       "      <td>140.1</td>\n",
       "      <td>1265</td>\n",
       "      <td>0.1178</td>\n",
       "      <td>0.277</td>\n",
       "      <td>0.3514</td>\n",
       "      <td>0.152</td>\n",
       "      <td>...</td>\n",
       "      <td>25.74</td>\n",
       "      <td>39.42</td>\n",
       "      <td>184.6</td>\n",
       "      <td>1821</td>\n",
       "      <td>0.165</td>\n",
       "      <td>0.8681</td>\n",
       "      <td>0.9387</td>\n",
       "      <td>0.265</td>\n",
       "      <td>0.4087</td>\n",
       "      <td>0.124</td>\n",
       "    </tr>\n",
       "    <tr>\n",
       "      <th>568</th>\n",
       "      <td>DonorA_0569</td>\n",
       "      <td>0</td>\n",
       "      <td>7.76</td>\n",
       "      <td>24.54</td>\n",
       "      <td>47.92</td>\n",
       "      <td>181</td>\n",
       "      <td>0.05263</td>\n",
       "      <td>0.04362</td>\n",
       "      <td>0</td>\n",
       "      <td>0</td>\n",
       "      <td>...</td>\n",
       "      <td>9.456</td>\n",
       "      <td>30.37</td>\n",
       "      <td>59.16</td>\n",
       "      <td>268.6</td>\n",
       "      <td>0.08996</td>\n",
       "      <td>0.06444</td>\n",
       "      <td>0</td>\n",
       "      <td>0</td>\n",
       "      <td>0.2871</td>\n",
       "      <td>0.07039</td>\n",
       "    </tr>\n",
       "  </tbody>\n",
       "</table>\n",
       "<p>569 rows × 32 columns</p>\n",
       "</div>"
      ],
      "text/plain": [
       "              id diagnosis radius_mean texture_mean perimeter_mean area_mean  \\\n",
       "0    DonorA_0001         1       17.99        10.38          122.8      1001   \n",
       "1    DonorA_0002         1       20.57        17.77          132.9      1326   \n",
       "2    DonorA_0003         1       19.69        21.25            130      1203   \n",
       "3    DonorA_0004         1       11.42        20.38          77.58     386.1   \n",
       "4    DonorA_0005         1       20.29        14.34          135.1      1297   \n",
       "..           ...       ...         ...          ...            ...       ...   \n",
       "564  DonorA_0565         1       21.56        22.39            142      1479   \n",
       "565  DonorA_0566         1       20.13        28.25          131.2      1261   \n",
       "566  DonorA_0567         1        16.6        28.08          108.3     858.1   \n",
       "567  DonorA_0568         1        20.6        29.33          140.1      1265   \n",
       "568  DonorA_0569         0        7.76        24.54          47.92       181   \n",
       "\n",
       "    smoothness_mean compactness_mean concavity_mean concave points_mean  ...  \\\n",
       "0            0.1184           0.2776         0.3001              0.1471  ...   \n",
       "1           0.08474          0.07864         0.0869             0.07017  ...   \n",
       "2            0.1096           0.1599         0.1974              0.1279  ...   \n",
       "3            0.1425           0.2839         0.2414              0.1052  ...   \n",
       "4            0.1003           0.1328          0.198              0.1043  ...   \n",
       "..              ...              ...            ...                 ...  ...   \n",
       "564           0.111           0.1159         0.2439              0.1389  ...   \n",
       "565          0.0978           0.1034          0.144             0.09791  ...   \n",
       "566         0.08455           0.1023        0.09251             0.05302  ...   \n",
       "567          0.1178            0.277         0.3514               0.152  ...   \n",
       "568         0.05263          0.04362              0                   0  ...   \n",
       "\n",
       "    radius_worst texture_worst perimeter_worst area_worst smoothness_worst  \\\n",
       "0          25.38         17.33           184.6       2019           0.1622   \n",
       "1          24.99         23.41           158.8       1956           0.1238   \n",
       "2          23.57         25.53           152.5       1709           0.1444   \n",
       "3          14.91          26.5           98.87      567.7           0.2098   \n",
       "4          22.54         16.67           152.2       1575           0.1374   \n",
       "..           ...           ...             ...        ...              ...   \n",
       "564        25.45          26.4           166.1       2027            0.141   \n",
       "565        23.69         38.25             155       1731           0.1166   \n",
       "566        18.98         34.12           126.7       1124           0.1139   \n",
       "567        25.74         39.42           184.6       1821            0.165   \n",
       "568        9.456         30.37           59.16      268.6          0.08996   \n",
       "\n",
       "    compactness_worst concavity_worst concave points_worst symmetry_worst  \\\n",
       "0              0.6656          0.7119               0.2654         0.4601   \n",
       "1              0.1866          0.2416                0.186          0.275   \n",
       "2              0.4245          0.4504                0.243         0.3613   \n",
       "3              0.8663          0.6869               0.2575         0.6638   \n",
       "4               0.205             0.4               0.1625         0.2364   \n",
       "..                ...             ...                  ...            ...   \n",
       "564            0.2113          0.4107               0.2216          0.206   \n",
       "565            0.1922          0.3215               0.1628         0.2572   \n",
       "566            0.3094          0.3403               0.1418         0.2218   \n",
       "567            0.8681          0.9387                0.265         0.4087   \n",
       "568           0.06444               0                    0         0.2871   \n",
       "\n",
       "    fractal_dimension_worst  \n",
       "0                    0.1189  \n",
       "1                   0.08902  \n",
       "2                   0.08758  \n",
       "3                     0.173  \n",
       "4                   0.07678  \n",
       "..                      ...  \n",
       "564                 0.07115  \n",
       "565                 0.06637  \n",
       "566                  0.0782  \n",
       "567                   0.124  \n",
       "568                 0.07039  \n",
       "\n",
       "[569 rows x 32 columns]"
      ]
     },
     "execution_count": 257,
     "metadata": {},
     "output_type": "execute_result"
    }
   ],
   "source": [
    "#과제에서 지정해준 csv파일을 불러옵니다.(저는 JupyterLab으로 진행하였어서 경로가 타 SW와 다를 수 있습니다)\n",
    "df = pd.read_csv('./Glioblastoma.csv', sep = ',', header = None)\n",
    "\n",
    "#0번째 행을 속성값으로 지정\n",
    "df = df.rename(columns=df.iloc[0])\n",
    "\n",
    "#컬럼 명 지정되어있으니 0번째 행 삭제\n",
    "df = df.drop(df.index[0])\n",
    "\n",
    "#삭제해서 인덱스 행이 1부터 시작하여 다시 그것을 재정렬 해주기 위해 행번호 초기화 후 다시 재정의\n",
    "df=df.reset_index(drop=True)\n",
    "df"
   ]
  },
  {
   "cell_type": "code",
   "execution_count": 258,
   "id": "6fa4987b-41aa-4e5a-9bfb-232afe577fab",
   "metadata": {
    "tags": []
   },
   "outputs": [],
   "source": [
    "#열심히 컬럼명 적었습니다!\n",
    "X = df[['radius_mean', 'texture_mean','perimeter_mean', 'area_mean','smoothness_mean','compactness_mean','concavity_mean','concave points_mean','symmetry_mean','fractal_dimension_mean','radius_se','texture_se','perimeter_se','area_se','smoothness_se','compactness_se','concavity_se','concave points_se','symmetry_se','fractal_dimension_se','radius_worst','texture_worst','perimeter_worst','area_worst','smoothness_worst','compactness_worst','concavity_worst','concave points_worst','symmetry_worst','fractal_dimension_worst']]\n",
    "\n",
    "#암인지 아닌지 해당 결과가 적혀있는 column을 y에 넣습니다\n",
    "y = df['diagnosis']"
   ]
  },
  {
   "cell_type": "code",
   "execution_count": 259,
   "id": "f1dea860-a9de-45dd-8803-c6c65b59fe5c",
   "metadata": {
    "tags": []
   },
   "outputs": [
    {
     "data": {
      "text/plain": [
       "0      1\n",
       "1      1\n",
       "2      1\n",
       "3      1\n",
       "4      1\n",
       "      ..\n",
       "564    1\n",
       "565    1\n",
       "566    1\n",
       "567    1\n",
       "568    0\n",
       "Name: diagnosis, Length: 569, dtype: object"
      ]
     },
     "execution_count": 259,
     "metadata": {},
     "output_type": "execute_result"
    }
   ],
   "source": [
    "y"
   ]
  },
  {
   "cell_type": "markdown",
   "id": "66d4d775-344d-4ea9-a81c-ddefa3ffe65f",
   "metadata": {},
   "source": [
    "테스트 데이터를 분할합니다(일단 train 80 : test 20 으로 진행하겠습니다)"
   ]
  },
  {
   "cell_type": "code",
   "execution_count": 260,
   "id": "1cda185b-ed80-40e0-b9c9-64517c91fd82",
   "metadata": {
    "tags": []
   },
   "outputs": [],
   "source": [
    "#데이터 분할 작업...\n",
    "X_train, X_test, y_train, y_test  = train_test_split(X, y, test_size = 0.2)"
   ]
  },
  {
   "cell_type": "markdown",
   "id": "5eed5b89-9ae9-4839-8fc9-34ddb2541839",
   "metadata": {},
   "source": [
    "랜덤 포레스트 모델을 이용한 데이터 학습"
   ]
  },
  {
   "cell_type": "code",
   "execution_count": 261,
   "id": "c7070837-759e-4595-8533-4438715e9fc4",
   "metadata": {
    "tags": []
   },
   "outputs": [],
   "source": [
    "#랜덤포레스트 모델 선언!\n",
    "from sklearn.ensemble import RandomForestClassifier\n",
    "from sklearn.metrics import accuracy_score"
   ]
  },
  {
   "cell_type": "code",
   "execution_count": 262,
   "id": "3cd82829-0796-4c71-a709-e2509c61ec4e",
   "metadata": {
    "tags": []
   },
   "outputs": [
    {
     "data": {
      "text/html": [
       "<style>#sk-container-id-21 {color: black;background-color: white;}#sk-container-id-21 pre{padding: 0;}#sk-container-id-21 div.sk-toggleable {background-color: white;}#sk-container-id-21 label.sk-toggleable__label {cursor: pointer;display: block;width: 100%;margin-bottom: 0;padding: 0.3em;box-sizing: border-box;text-align: center;}#sk-container-id-21 label.sk-toggleable__label-arrow:before {content: \"▸\";float: left;margin-right: 0.25em;color: #696969;}#sk-container-id-21 label.sk-toggleable__label-arrow:hover:before {color: black;}#sk-container-id-21 div.sk-estimator:hover label.sk-toggleable__label-arrow:before {color: black;}#sk-container-id-21 div.sk-toggleable__content {max-height: 0;max-width: 0;overflow: hidden;text-align: left;background-color: #f0f8ff;}#sk-container-id-21 div.sk-toggleable__content pre {margin: 0.2em;color: black;border-radius: 0.25em;background-color: #f0f8ff;}#sk-container-id-21 input.sk-toggleable__control:checked~div.sk-toggleable__content {max-height: 200px;max-width: 100%;overflow: auto;}#sk-container-id-21 input.sk-toggleable__control:checked~label.sk-toggleable__label-arrow:before {content: \"▾\";}#sk-container-id-21 div.sk-estimator input.sk-toggleable__control:checked~label.sk-toggleable__label {background-color: #d4ebff;}#sk-container-id-21 div.sk-label input.sk-toggleable__control:checked~label.sk-toggleable__label {background-color: #d4ebff;}#sk-container-id-21 input.sk-hidden--visually {border: 0;clip: rect(1px 1px 1px 1px);clip: rect(1px, 1px, 1px, 1px);height: 1px;margin: -1px;overflow: hidden;padding: 0;position: absolute;width: 1px;}#sk-container-id-21 div.sk-estimator {font-family: monospace;background-color: #f0f8ff;border: 1px dotted black;border-radius: 0.25em;box-sizing: border-box;margin-bottom: 0.5em;}#sk-container-id-21 div.sk-estimator:hover {background-color: #d4ebff;}#sk-container-id-21 div.sk-parallel-item::after {content: \"\";width: 100%;border-bottom: 1px solid gray;flex-grow: 1;}#sk-container-id-21 div.sk-label:hover label.sk-toggleable__label {background-color: #d4ebff;}#sk-container-id-21 div.sk-serial::before {content: \"\";position: absolute;border-left: 1px solid gray;box-sizing: border-box;top: 0;bottom: 0;left: 50%;z-index: 0;}#sk-container-id-21 div.sk-serial {display: flex;flex-direction: column;align-items: center;background-color: white;padding-right: 0.2em;padding-left: 0.2em;position: relative;}#sk-container-id-21 div.sk-item {position: relative;z-index: 1;}#sk-container-id-21 div.sk-parallel {display: flex;align-items: stretch;justify-content: center;background-color: white;position: relative;}#sk-container-id-21 div.sk-item::before, #sk-container-id-21 div.sk-parallel-item::before {content: \"\";position: absolute;border-left: 1px solid gray;box-sizing: border-box;top: 0;bottom: 0;left: 50%;z-index: -1;}#sk-container-id-21 div.sk-parallel-item {display: flex;flex-direction: column;z-index: 1;position: relative;background-color: white;}#sk-container-id-21 div.sk-parallel-item:first-child::after {align-self: flex-end;width: 50%;}#sk-container-id-21 div.sk-parallel-item:last-child::after {align-self: flex-start;width: 50%;}#sk-container-id-21 div.sk-parallel-item:only-child::after {width: 0;}#sk-container-id-21 div.sk-dashed-wrapped {border: 1px dashed gray;margin: 0 0.4em 0.5em 0.4em;box-sizing: border-box;padding-bottom: 0.4em;background-color: white;}#sk-container-id-21 div.sk-label label {font-family: monospace;font-weight: bold;display: inline-block;line-height: 1.2em;}#sk-container-id-21 div.sk-label-container {text-align: center;}#sk-container-id-21 div.sk-container {/* jupyter's `normalize.less` sets `[hidden] { display: none; }` but bootstrap.min.css set `[hidden] { display: none !important; }` so we also need the `!important` here to be able to override the default hidden behavior on the sphinx rendered scikit-learn.org. See: https://github.com/scikit-learn/scikit-learn/issues/21755 */display: inline-block !important;position: relative;}#sk-container-id-21 div.sk-text-repr-fallback {display: none;}</style><div id=\"sk-container-id-21\" class=\"sk-top-container\"><div class=\"sk-text-repr-fallback\"><pre>RandomForestRegressor(random_state=0)</pre><b>In a Jupyter environment, please rerun this cell to show the HTML representation or trust the notebook. <br />On GitHub, the HTML representation is unable to render, please try loading this page with nbviewer.org.</b></div><div class=\"sk-container\" hidden><div class=\"sk-item\"><div class=\"sk-estimator sk-toggleable\"><input class=\"sk-toggleable__control sk-hidden--visually\" id=\"sk-estimator-id-21\" type=\"checkbox\" checked><label for=\"sk-estimator-id-21\" class=\"sk-toggleable__label sk-toggleable__label-arrow\">RandomForestRegressor</label><div class=\"sk-toggleable__content\"><pre>RandomForestRegressor(random_state=0)</pre></div></div></div></div></div>"
      ],
      "text/plain": [
       "RandomForestRegressor(random_state=0)"
      ]
     },
     "execution_count": 262,
     "metadata": {},
     "output_type": "execute_result"
    }
   ],
   "source": [
    "#트리 개수는 일단 100으로 하였습니다\n",
    "#확실한 측정을 위해 랜덤 요소는 0으로 맞추었습니다.\n",
    "rf_model=RandomForestRegressor(n_estimators=100,random_state=0)\n",
    "rf_model.fit(X_train,y_train)"
   ]
  },
  {
   "cell_type": "code",
   "execution_count": 263,
   "id": "c762eaf2-574f-49ce-8152-4aa65779776f",
   "metadata": {
    "tags": []
   },
   "outputs": [],
   "source": [
    "#랜덤포레스트 학습 완료된 모델을 이용하여 X_test 데이터를 넣어서 예측 시작!\n",
    "rf_predict=rf_model.predict(X_test)"
   ]
  },
  {
   "cell_type": "code",
   "execution_count": 264,
   "id": "de482a34-f1a9-47b7-954e-68ba165d8658",
   "metadata": {
    "tags": []
   },
   "outputs": [
    {
     "data": {
      "text/plain": [
       "array([1.  , 1.  , 0.  , 0.89, 0.2 , 0.09, 0.  , 0.  , 0.4 , 0.  , 1.  ,\n",
       "       0.96, 0.  , 0.83, 0.  , 1.  , 0.  , 1.  , 0.  , 1.  , 0.  , 1.  ,\n",
       "       0.  , 0.04, 0.  , 0.  , 0.  , 0.56, 0.72, 0.66, 0.97, 0.  , 0.  ,\n",
       "       0.  , 0.02, 0.67, 0.  , 0.  , 0.18, 0.99, 0.35, 1.  , 0.98, 0.82,\n",
       "       0.  , 0.98, 0.78, 0.33, 0.  , 0.  , 0.  , 0.99, 0.97, 1.  , 0.01,\n",
       "       0.  , 0.31, 0.  , 1.  , 0.01, 0.02, 0.  , 0.28, 0.  , 0.91, 0.  ,\n",
       "       1.  , 0.99, 0.75, 0.  , 0.47, 0.97, 0.  , 0.  , 0.02, 1.  , 1.  ,\n",
       "       0.  , 1.  , 1.  , 0.  , 1.  , 0.  , 0.  , 1.  , 0.02, 0.  , 0.  ,\n",
       "       1.  , 0.43, 0.6 , 1.  , 0.  , 0.56, 0.  , 0.05, 0.99, 0.03, 0.6 ,\n",
       "       0.96, 1.  , 0.  , 0.  , 0.  , 0.31, 0.44, 0.  , 0.  , 0.  , 1.  ,\n",
       "       0.57, 1.  , 0.  , 0.  ])"
      ]
     },
     "execution_count": 264,
     "metadata": {},
     "output_type": "execute_result"
    }
   ],
   "source": [
    "rf_predict"
   ]
  },
  {
   "cell_type": "code",
   "execution_count": 265,
   "id": "ee2e3737-7e16-4472-a6a2-1e648f0dccd4",
   "metadata": {
    "tags": []
   },
   "outputs": [],
   "source": [
    "#분류 모델은 정확하게 나뉘어져야 하다보니 0과 1로 변환하는 작업을 거쳤습니다.\n",
    "#일반적으로 Image Detect할 때도 예측 수치가 0.5 넘는 것은 감지하여 감지된 객체의 label을 그리는 것처럼 이것 또한 동일하다고 생각하여 아래와 같이 진행하였습니다.\n",
    "\n",
    "# 차원 펴주기\n",
    "temp_pred = rf_predict.flatten()\n",
    "\n",
    "#저는 일단 0.5보다크면 1(암이 있다), 작으면 0(암이 없다) 이렇게 진행했습니다.\n",
    "rf_pre_set = np.where(temp_pred > 0.5, 1 , 0) "
   ]
  },
  {
   "cell_type": "code",
   "execution_count": 266,
   "id": "ea1560ae-c869-4b5b-af63-0d0a7220425f",
   "metadata": {
    "tags": []
   },
   "outputs": [
    {
     "data": {
      "text/plain": [
       "array([1, 1, 0, 1, 0, 0, 0, 0, 0, 0, 1, 1, 0, 1, 0, 1, 0, 1, 0, 1, 0, 1,\n",
       "       0, 0, 0, 0, 0, 1, 1, 1, 1, 0, 0, 0, 0, 1, 0, 0, 0, 1, 0, 1, 1, 1,\n",
       "       0, 1, 1, 0, 0, 0, 0, 1, 1, 1, 0, 0, 0, 0, 1, 0, 0, 0, 0, 0, 1, 0,\n",
       "       1, 1, 1, 0, 0, 1, 0, 0, 0, 1, 1, 0, 1, 1, 0, 1, 0, 0, 1, 0, 0, 0,\n",
       "       1, 0, 1, 1, 0, 1, 0, 0, 1, 0, 1, 1, 1, 0, 0, 0, 0, 0, 0, 0, 0, 1,\n",
       "       1, 1, 0, 0])"
      ]
     },
     "execution_count": 266,
     "metadata": {},
     "output_type": "execute_result"
    }
   ],
   "source": [
    "rf_pre_set"
   ]
  },
  {
   "cell_type": "code",
   "execution_count": 267,
   "id": "8c4f2f45-f67d-4007-bd30-416e972fc7b8",
   "metadata": {
    "tags": []
   },
   "outputs": [],
   "source": [
    "#타입이 안맞아서 오류가 나다보니 일단 타입을 동일하게 맞추었습니다.\n",
    "y_test=y_test.astype(rf_pre_set.dtype)"
   ]
  },
  {
   "cell_type": "code",
   "execution_count": 268,
   "id": "207bc86c-5ac4-4fe5-9a4d-ef09e5045ba6",
   "metadata": {
    "tags": []
   },
   "outputs": [
    {
     "data": {
      "text/plain": [
       "75     1\n",
       "323    1\n",
       "333    0\n",
       "321    1\n",
       "255    1\n",
       "      ..\n",
       "257    1\n",
       "484    0\n",
       "129    1\n",
       "150    0\n",
       "427    0\n",
       "Name: diagnosis, Length: 114, dtype: int64"
      ]
     },
     "execution_count": 268,
     "metadata": {},
     "output_type": "execute_result"
    }
   ],
   "source": [
    "#잘 타입 동일하게 바뀌었는지 확인위한 코드\n",
    "y_test"
   ]
  },
  {
   "cell_type": "code",
   "execution_count": 269,
   "id": "cf6a5177-338d-4a46-b7a9-254d9f3c7de4",
   "metadata": {
    "tags": []
   },
   "outputs": [],
   "source": [
    "#각 import 한 분류 평가 방법으로 진행\n",
    "rf_accuracy = accuracy_score(y_test, rf_pre_set)\n",
    "rf_precision = precision_score(y_test, rf_pre_set)\n",
    "rf_recall = recall_score(y_test,rf_pre_set)\n",
    "rf_f1= f1_score(y_test,rf_pre_set)\n",
    "rf_roc= roc_auc_score(y_test,rf_pre_set)"
   ]
  },
  {
   "cell_type": "code",
   "execution_count": 270,
   "id": "5edaafc2-19e1-4df3-b21e-d1efd81dab5b",
   "metadata": {
    "tags": []
   },
   "outputs": [
    {
     "name": "stdout",
     "output_type": "stream",
     "text": [
      "Accuracy=>  0.956140350877193\n",
      "Precision=>  0.9574468085106383\n",
      "Recall=>  0.9375\n",
      "F1=>  0.9473684210526315\n",
      "AUC=>  0.9535984848484849\n"
     ]
    }
   ],
   "source": [
    "#각 수치 정보들이 들어있는 값 출력\n",
    "print(\"Accuracy=> \",rf_accuracy)\n",
    "print(\"Precision=> \",rf_precision)\n",
    "print(\"Recall=> \",rf_recall)\n",
    "print(\"F1=> \",rf_f1)\n",
    "print(\"AUC=> \",rf_roc)"
   ]
  },
  {
   "cell_type": "markdown",
   "id": "7d6b7b77-c3e1-4c37-bc92-fc50ba8bfb60",
   "metadata": {},
   "source": [
    "의사 결정 트리 모델을 이용한 데이터 학습"
   ]
  },
  {
   "cell_type": "code",
   "execution_count": 271,
   "id": "f5b27a9c-4207-4e19-9f41-2ca4c3303a4b",
   "metadata": {
    "tags": []
   },
   "outputs": [],
   "source": [
    "#의사 결정 트리 모델 불러오기!\n",
    "from sklearn.tree import DecisionTreeClassifier"
   ]
  },
  {
   "cell_type": "code",
   "execution_count": 272,
   "id": "d3f45083-a1e6-48f6-b070-536bd4e344c1",
   "metadata": {
    "tags": []
   },
   "outputs": [
    {
     "data": {
      "text/html": [
       "<style>#sk-container-id-22 {color: black;background-color: white;}#sk-container-id-22 pre{padding: 0;}#sk-container-id-22 div.sk-toggleable {background-color: white;}#sk-container-id-22 label.sk-toggleable__label {cursor: pointer;display: block;width: 100%;margin-bottom: 0;padding: 0.3em;box-sizing: border-box;text-align: center;}#sk-container-id-22 label.sk-toggleable__label-arrow:before {content: \"▸\";float: left;margin-right: 0.25em;color: #696969;}#sk-container-id-22 label.sk-toggleable__label-arrow:hover:before {color: black;}#sk-container-id-22 div.sk-estimator:hover label.sk-toggleable__label-arrow:before {color: black;}#sk-container-id-22 div.sk-toggleable__content {max-height: 0;max-width: 0;overflow: hidden;text-align: left;background-color: #f0f8ff;}#sk-container-id-22 div.sk-toggleable__content pre {margin: 0.2em;color: black;border-radius: 0.25em;background-color: #f0f8ff;}#sk-container-id-22 input.sk-toggleable__control:checked~div.sk-toggleable__content {max-height: 200px;max-width: 100%;overflow: auto;}#sk-container-id-22 input.sk-toggleable__control:checked~label.sk-toggleable__label-arrow:before {content: \"▾\";}#sk-container-id-22 div.sk-estimator input.sk-toggleable__control:checked~label.sk-toggleable__label {background-color: #d4ebff;}#sk-container-id-22 div.sk-label input.sk-toggleable__control:checked~label.sk-toggleable__label {background-color: #d4ebff;}#sk-container-id-22 input.sk-hidden--visually {border: 0;clip: rect(1px 1px 1px 1px);clip: rect(1px, 1px, 1px, 1px);height: 1px;margin: -1px;overflow: hidden;padding: 0;position: absolute;width: 1px;}#sk-container-id-22 div.sk-estimator {font-family: monospace;background-color: #f0f8ff;border: 1px dotted black;border-radius: 0.25em;box-sizing: border-box;margin-bottom: 0.5em;}#sk-container-id-22 div.sk-estimator:hover {background-color: #d4ebff;}#sk-container-id-22 div.sk-parallel-item::after {content: \"\";width: 100%;border-bottom: 1px solid gray;flex-grow: 1;}#sk-container-id-22 div.sk-label:hover label.sk-toggleable__label {background-color: #d4ebff;}#sk-container-id-22 div.sk-serial::before {content: \"\";position: absolute;border-left: 1px solid gray;box-sizing: border-box;top: 0;bottom: 0;left: 50%;z-index: 0;}#sk-container-id-22 div.sk-serial {display: flex;flex-direction: column;align-items: center;background-color: white;padding-right: 0.2em;padding-left: 0.2em;position: relative;}#sk-container-id-22 div.sk-item {position: relative;z-index: 1;}#sk-container-id-22 div.sk-parallel {display: flex;align-items: stretch;justify-content: center;background-color: white;position: relative;}#sk-container-id-22 div.sk-item::before, #sk-container-id-22 div.sk-parallel-item::before {content: \"\";position: absolute;border-left: 1px solid gray;box-sizing: border-box;top: 0;bottom: 0;left: 50%;z-index: -1;}#sk-container-id-22 div.sk-parallel-item {display: flex;flex-direction: column;z-index: 1;position: relative;background-color: white;}#sk-container-id-22 div.sk-parallel-item:first-child::after {align-self: flex-end;width: 50%;}#sk-container-id-22 div.sk-parallel-item:last-child::after {align-self: flex-start;width: 50%;}#sk-container-id-22 div.sk-parallel-item:only-child::after {width: 0;}#sk-container-id-22 div.sk-dashed-wrapped {border: 1px dashed gray;margin: 0 0.4em 0.5em 0.4em;box-sizing: border-box;padding-bottom: 0.4em;background-color: white;}#sk-container-id-22 div.sk-label label {font-family: monospace;font-weight: bold;display: inline-block;line-height: 1.2em;}#sk-container-id-22 div.sk-label-container {text-align: center;}#sk-container-id-22 div.sk-container {/* jupyter's `normalize.less` sets `[hidden] { display: none; }` but bootstrap.min.css set `[hidden] { display: none !important; }` so we also need the `!important` here to be able to override the default hidden behavior on the sphinx rendered scikit-learn.org. See: https://github.com/scikit-learn/scikit-learn/issues/21755 */display: inline-block !important;position: relative;}#sk-container-id-22 div.sk-text-repr-fallback {display: none;}</style><div id=\"sk-container-id-22\" class=\"sk-top-container\"><div class=\"sk-text-repr-fallback\"><pre>DecisionTreeClassifier(random_state=0)</pre><b>In a Jupyter environment, please rerun this cell to show the HTML representation or trust the notebook. <br />On GitHub, the HTML representation is unable to render, please try loading this page with nbviewer.org.</b></div><div class=\"sk-container\" hidden><div class=\"sk-item\"><div class=\"sk-estimator sk-toggleable\"><input class=\"sk-toggleable__control sk-hidden--visually\" id=\"sk-estimator-id-22\" type=\"checkbox\" checked><label for=\"sk-estimator-id-22\" class=\"sk-toggleable__label sk-toggleable__label-arrow\">DecisionTreeClassifier</label><div class=\"sk-toggleable__content\"><pre>DecisionTreeClassifier(random_state=0)</pre></div></div></div></div></div>"
      ],
      "text/plain": [
       "DecisionTreeClassifier(random_state=0)"
      ]
     },
     "execution_count": 272,
     "metadata": {},
     "output_type": "execute_result"
    }
   ],
   "source": [
    "#확실한 측정을 위해 랜덤 요소는 0으로 하였습니다.\n",
    "dt_model=DecisionTreeClassifier(random_state=0)\n",
    "\n",
    "#그리고 의사결정트리 모델로 학습 진행!\n",
    "dt_model.fit(X_train,y_train)"
   ]
  },
  {
   "cell_type": "code",
   "execution_count": 273,
   "id": "51cb4a87-5ae0-4afd-9add-32f1746614b8",
   "metadata": {
    "tags": []
   },
   "outputs": [],
   "source": [
    "#X_test에 있는 데이터들을 예측합니다.\n",
    "dt_predict=dt_model.predict(X_test)"
   ]
  },
  {
   "cell_type": "code",
   "execution_count": 274,
   "id": "d047cd10-2bac-47c4-8cb5-c32ee7fc80ce",
   "metadata": {
    "tags": []
   },
   "outputs": [
    {
     "data": {
      "text/plain": [
       "array(['1', '1', '0', '1', '0', '0', '0', '0', '1', '0', '1', '1', '0',\n",
       "       '1', '0', '1', '0', '1', '0', '1', '0', '1', '0', '0', '0', '0',\n",
       "       '0', '0', '1', '0', '1', '0', '0', '0', '0', '0', '0', '0', '0',\n",
       "       '1', '1', '1', '1', '1', '0', '1', '1', '0', '0', '0', '0', '1',\n",
       "       '1', '1', '0', '0', '0', '0', '1', '0', '0', '0', '0', '0', '1',\n",
       "       '0', '1', '1', '1', '0', '1', '1', '0', '0', '0', '1', '1', '0',\n",
       "       '1', '1', '0', '1', '0', '0', '1', '0', '0', '0', '1', '0', '0',\n",
       "       '1', '0', '1', '0', '0', '1', '0', '0', '1', '1', '0', '0', '0',\n",
       "       '0', '1', '0', '0', '0', '1', '1', '1', '0', '0'], dtype=object)"
      ]
     },
     "execution_count": 274,
     "metadata": {},
     "output_type": "execute_result"
    }
   ],
   "source": [
    "dt_predict"
   ]
  },
  {
   "cell_type": "code",
   "execution_count": 275,
   "id": "df883125-37df-4275-9be6-234a209b6470",
   "metadata": {
    "tags": []
   },
   "outputs": [],
   "source": [
    "#타입이 안맞아서 오류가 나다보니 일단 타입을 동일하게 맞추었습니다.\n",
    "#이거는 모델 결과가 보니까 ' ' 이런 형식으로 나오길래 y_test에 있는 형식과 동일하게 얘를 맞춰주었습니다.\n",
    "dt_predict=dt_predict.astype(y_test.dtype)"
   ]
  },
  {
   "cell_type": "code",
   "execution_count": 276,
   "id": "97f637ca-5f30-4815-b16d-538817d0ad5a",
   "metadata": {
    "tags": []
   },
   "outputs": [
    {
     "data": {
      "text/plain": [
       "array([1, 1, 0, 1, 0, 0, 0, 0, 1, 0, 1, 1, 0, 1, 0, 1, 0, 1, 0, 1, 0, 1,\n",
       "       0, 0, 0, 0, 0, 0, 1, 0, 1, 0, 0, 0, 0, 0, 0, 0, 0, 1, 1, 1, 1, 1,\n",
       "       0, 1, 1, 0, 0, 0, 0, 1, 1, 1, 0, 0, 0, 0, 1, 0, 0, 0, 0, 0, 1, 0,\n",
       "       1, 1, 1, 0, 1, 1, 0, 0, 0, 1, 1, 0, 1, 1, 0, 1, 0, 0, 1, 0, 0, 0,\n",
       "       1, 0, 0, 1, 0, 1, 0, 0, 1, 0, 0, 1, 1, 0, 0, 0, 0, 1, 0, 0, 0, 1,\n",
       "       1, 1, 0, 0])"
      ]
     },
     "execution_count": 276,
     "metadata": {},
     "output_type": "execute_result"
    }
   ],
   "source": [
    "dt_predict"
   ]
  },
  {
   "cell_type": "code",
   "execution_count": 277,
   "id": "486edd73-d9de-4fb8-8602-613cbdda4822",
   "metadata": {
    "tags": []
   },
   "outputs": [],
   "source": [
    "#각 import 한 분류 평가 방법으로 진행\n",
    "dt_accuracy = accuracy_score(y_test, dt_predict)\n",
    "dt_precision = precision_score(y_test, dt_predict)\n",
    "dt_recall = recall_score(y_test,dt_predict)\n",
    "dt_f1= f1_score(y_test,dt_predict)\n",
    "dt_roc= roc_auc_score(y_test,dt_predict)"
   ]
  },
  {
   "cell_type": "code",
   "execution_count": 278,
   "id": "bd89ca3c-bd5e-434c-82ba-21c524b9430f",
   "metadata": {
    "tags": []
   },
   "outputs": [
    {
     "name": "stdout",
     "output_type": "stream",
     "text": [
      "Accuracy=>  0.9122807017543859\n",
      "Precision=>  0.9130434782608695\n",
      "Recall=>  0.875\n",
      "F1=>  0.8936170212765957\n",
      "AUC=>  0.9071969696969697\n"
     ]
    }
   ],
   "source": [
    "#각 수치 정보들이 들어있는 값 출력\n",
    "print(\"Accuracy=> \",dt_accuracy)\n",
    "print(\"Precision=> \",dt_precision)\n",
    "print(\"Recall=> \",dt_recall)\n",
    "print(\"F1=> \",dt_f1)\n",
    "print(\"AUC=> \",dt_roc)"
   ]
  },
  {
   "cell_type": "markdown",
   "id": "8fbf709e-0ea3-4aca-a0de-45913b06685c",
   "metadata": {},
   "source": [
    "최종 두 모델의 분류 평가 결과 출력"
   ]
  },
  {
   "cell_type": "code",
   "execution_count": 279,
   "id": "d3bbb878-aaa1-4381-a879-127aeca8f2f5",
   "metadata": {
    "tags": []
   },
   "outputs": [
    {
     "name": "stdout",
     "output_type": "stream",
     "text": [
      "Random Forest\n",
      "- Accuracy=>  0.956140350877193\n",
      "- Precision=>  0.9574468085106383\n",
      "- Recall=>  0.9375\n",
      "- F1-score=>  0.9473684210526315\n",
      "- AUC=>  0.9535984848484849\n",
      "\n",
      "\n",
      "\n",
      "Decision Tree\n",
      "- Accuracy=>  0.9122807017543859\n",
      "- Precision=>  0.9130434782608695\n",
      "- Recall=>  0.875\n",
      "- F1-score=>  0.8936170212765957\n",
      "- AUC=>  0.9071969696969697\n"
     ]
    }
   ],
   "source": [
    "print(\"Random Forest\")\n",
    "print(\"- Accuracy=> \",rf_accuracy)\n",
    "print(\"- Precision=> \",rf_precision)\n",
    "print(\"- Recall=> \",rf_recall)\n",
    "print(\"- F1-score=> \",rf_f1)\n",
    "print(\"- AUC=> \",rf_roc)\n",
    "\n",
    "print(\"\\n\\n\")\n",
    "\n",
    "print(\"Decision Tree\")\n",
    "print(\"- Accuracy=> \",dt_accuracy)\n",
    "print(\"- Precision=> \",dt_precision)\n",
    "print(\"- Recall=> \",dt_recall)\n",
    "print(\"- F1-score=> \",dt_f1)\n",
    "print(\"- AUC=> \",dt_roc)\n"
   ]
  }
 ],
 "metadata": {
  "kernelspec": {
   "display_name": "Python 3 (ipykernel)",
   "language": "python",
   "name": "python3"
  },
  "language_info": {
   "codemirror_mode": {
    "name": "ipython",
    "version": 3
   },
   "file_extension": ".py",
   "mimetype": "text/x-python",
   "name": "python",
   "nbconvert_exporter": "python",
   "pygments_lexer": "ipython3",
   "version": "3.8.10"
  }
 },
 "nbformat": 4,
 "nbformat_minor": 5
}
