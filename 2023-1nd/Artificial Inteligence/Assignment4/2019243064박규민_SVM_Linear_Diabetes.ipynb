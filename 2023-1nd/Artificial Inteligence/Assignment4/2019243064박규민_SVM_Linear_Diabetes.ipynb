{
 "cells": [
  {
   "cell_type": "markdown",
   "id": "1ff6e74f-2ec6-4db3-87fa-812deee64134",
   "metadata": {},
   "source": [
    "SVM은 모델 설정에 따라 비선형, 선형이 가능한 모델로 Kernel에서 설정하여 만들면 됩니다.\n",
    "SVM은 Support Vector Machine의 약자로서 분류와 회귀 분석에 사용됩니다.\n",
    "서포트 벡터 머신의 특징이 데이터들의 결정 경계(왼쪽은 참, 오른쪽은 거짓 ) 이런 것처럼 이렇게 분류하여\n",
    "각 클래스를 구분하는 가장 큰 폭을 갖도록 하는 것이 특징입니다.\n",
    "결국 이 마진 경계를 찾는 것이 SVM 목적이자 특징입니다."
   ]
  },
  {
   "cell_type": "code",
   "execution_count": 72,
   "id": "52e42d68-79c1-40c1-bd25-864fc553683b",
   "metadata": {
    "tags": []
   },
   "outputs": [],
   "source": [
    "# 선형 회귀 커널을 탑재한 SVM 모델을 이용한 학습을 진행해보겠습니다\n",
    "import numpy as np\n",
    "import pandas as pd\n",
    "import matplotlib.pyplot as plt\n",
    "\n",
    "#평균제곱오차\n",
    "from sklearn.metrics import mean_squared_error\n",
    "\n",
    "#데이터들을 불러오기 위한 라이브러리 및 학습과 테스트 파일 구분 function\n",
    "from sklearn import datasets\n",
    "from sklearn.model_selection import train_test_split \n",
    "\n",
    "#SVM 모델 선언!\n",
    "from sklearn import svm"
   ]
  },
  {
   "cell_type": "code",
   "execution_count": 73,
   "id": "53077714-f780-4bca-9751-5212ddd44df0",
   "metadata": {
    "tags": []
   },
   "outputs": [],
   "source": [
    "#먼저 당뇨병 수치가 들어있는 데이터를 불러옵니다\n",
    "diabetes=datasets.load_diabetes()"
   ]
  },
  {
   "cell_type": "code",
   "execution_count": 74,
   "id": "76451b6a-b11d-4d19-8f2b-ca3d1e0cd43d",
   "metadata": {
    "tags": []
   },
   "outputs": [],
   "source": [
    "#일단 위 원래 데이터프레임 형식으로 제작하여 학습 및 전처리에 사용하나 샘플 데이터는 일단 바로 가져와 적용하였기에 저도 일단 동일하게 하였습니다.\n",
    "train_x,test_x,train_y,test_y= train_test_split(diabetes.data, diabetes.target, test_size=0.2, random_state=0)"
   ]
  },
  {
   "cell_type": "code",
   "execution_count": 75,
   "id": "49efa8fa-0c80-42cd-b507-b5d5c9e88e7a",
   "metadata": {
    "tags": []
   },
   "outputs": [],
   "source": [
    "#선형이라 kernel에 linear 넣고 해보겠습니다\n",
    "\n",
    "# 에러 결과 수치가 높아서 매개변수 값을 조정하여 강제로 낮추었습니다.\n",
    "#일단 오분류에 대한 패널티를 높여서 모델이 복잡하도록 만들어서 학습률을 높이기 위해 결국 이렇게 하여 수치를 3500 아래로 만들었습니다.\n",
    "svm_model=svm.SVR(kernel='linear', C=100)"
   ]
  },
  {
   "cell_type": "code",
   "execution_count": 76,
   "id": "6f11d3f4-7d81-462e-aaa3-ee942eae6e0e",
   "metadata": {
    "tags": []
   },
   "outputs": [
    {
     "data": {
      "text/html": [
       "<style>#sk-container-id-11 {color: black;background-color: white;}#sk-container-id-11 pre{padding: 0;}#sk-container-id-11 div.sk-toggleable {background-color: white;}#sk-container-id-11 label.sk-toggleable__label {cursor: pointer;display: block;width: 100%;margin-bottom: 0;padding: 0.3em;box-sizing: border-box;text-align: center;}#sk-container-id-11 label.sk-toggleable__label-arrow:before {content: \"▸\";float: left;margin-right: 0.25em;color: #696969;}#sk-container-id-11 label.sk-toggleable__label-arrow:hover:before {color: black;}#sk-container-id-11 div.sk-estimator:hover label.sk-toggleable__label-arrow:before {color: black;}#sk-container-id-11 div.sk-toggleable__content {max-height: 0;max-width: 0;overflow: hidden;text-align: left;background-color: #f0f8ff;}#sk-container-id-11 div.sk-toggleable__content pre {margin: 0.2em;color: black;border-radius: 0.25em;background-color: #f0f8ff;}#sk-container-id-11 input.sk-toggleable__control:checked~div.sk-toggleable__content {max-height: 200px;max-width: 100%;overflow: auto;}#sk-container-id-11 input.sk-toggleable__control:checked~label.sk-toggleable__label-arrow:before {content: \"▾\";}#sk-container-id-11 div.sk-estimator input.sk-toggleable__control:checked~label.sk-toggleable__label {background-color: #d4ebff;}#sk-container-id-11 div.sk-label input.sk-toggleable__control:checked~label.sk-toggleable__label {background-color: #d4ebff;}#sk-container-id-11 input.sk-hidden--visually {border: 0;clip: rect(1px 1px 1px 1px);clip: rect(1px, 1px, 1px, 1px);height: 1px;margin: -1px;overflow: hidden;padding: 0;position: absolute;width: 1px;}#sk-container-id-11 div.sk-estimator {font-family: monospace;background-color: #f0f8ff;border: 1px dotted black;border-radius: 0.25em;box-sizing: border-box;margin-bottom: 0.5em;}#sk-container-id-11 div.sk-estimator:hover {background-color: #d4ebff;}#sk-container-id-11 div.sk-parallel-item::after {content: \"\";width: 100%;border-bottom: 1px solid gray;flex-grow: 1;}#sk-container-id-11 div.sk-label:hover label.sk-toggleable__label {background-color: #d4ebff;}#sk-container-id-11 div.sk-serial::before {content: \"\";position: absolute;border-left: 1px solid gray;box-sizing: border-box;top: 0;bottom: 0;left: 50%;z-index: 0;}#sk-container-id-11 div.sk-serial {display: flex;flex-direction: column;align-items: center;background-color: white;padding-right: 0.2em;padding-left: 0.2em;position: relative;}#sk-container-id-11 div.sk-item {position: relative;z-index: 1;}#sk-container-id-11 div.sk-parallel {display: flex;align-items: stretch;justify-content: center;background-color: white;position: relative;}#sk-container-id-11 div.sk-item::before, #sk-container-id-11 div.sk-parallel-item::before {content: \"\";position: absolute;border-left: 1px solid gray;box-sizing: border-box;top: 0;bottom: 0;left: 50%;z-index: -1;}#sk-container-id-11 div.sk-parallel-item {display: flex;flex-direction: column;z-index: 1;position: relative;background-color: white;}#sk-container-id-11 div.sk-parallel-item:first-child::after {align-self: flex-end;width: 50%;}#sk-container-id-11 div.sk-parallel-item:last-child::after {align-self: flex-start;width: 50%;}#sk-container-id-11 div.sk-parallel-item:only-child::after {width: 0;}#sk-container-id-11 div.sk-dashed-wrapped {border: 1px dashed gray;margin: 0 0.4em 0.5em 0.4em;box-sizing: border-box;padding-bottom: 0.4em;background-color: white;}#sk-container-id-11 div.sk-label label {font-family: monospace;font-weight: bold;display: inline-block;line-height: 1.2em;}#sk-container-id-11 div.sk-label-container {text-align: center;}#sk-container-id-11 div.sk-container {/* jupyter's `normalize.less` sets `[hidden] { display: none; }` but bootstrap.min.css set `[hidden] { display: none !important; }` so we also need the `!important` here to be able to override the default hidden behavior on the sphinx rendered scikit-learn.org. See: https://github.com/scikit-learn/scikit-learn/issues/21755 */display: inline-block !important;position: relative;}#sk-container-id-11 div.sk-text-repr-fallback {display: none;}</style><div id=\"sk-container-id-11\" class=\"sk-top-container\"><div class=\"sk-text-repr-fallback\"><pre>SVR(C=100, kernel=&#x27;linear&#x27;)</pre><b>In a Jupyter environment, please rerun this cell to show the HTML representation or trust the notebook. <br />On GitHub, the HTML representation is unable to render, please try loading this page with nbviewer.org.</b></div><div class=\"sk-container\" hidden><div class=\"sk-item\"><div class=\"sk-estimator sk-toggleable\"><input class=\"sk-toggleable__control sk-hidden--visually\" id=\"sk-estimator-id-11\" type=\"checkbox\" checked><label for=\"sk-estimator-id-11\" class=\"sk-toggleable__label sk-toggleable__label-arrow\">SVR</label><div class=\"sk-toggleable__content\"><pre>SVR(C=100, kernel=&#x27;linear&#x27;)</pre></div></div></div></div></div>"
      ],
      "text/plain": [
       "SVR(C=100, kernel='linear')"
      ]
     },
     "execution_count": 76,
     "metadata": {},
     "output_type": "execute_result"
    }
   ],
   "source": [
    "#학습 시작!\n",
    "svm_model.fit(train_x,train_y)"
   ]
  },
  {
   "cell_type": "code",
   "execution_count": 77,
   "id": "c7e05da0-4165-4d71-b9bc-2fa87fd2c5c7",
   "metadata": {},
   "outputs": [],
   "source": [
    "#학습 한 것을 이용하여 예측 (아까 test_x로 학습 데이터를 분류해놓은 것을 이용)\n",
    "svm_pre=svm_model.predict(test_x)"
   ]
  },
  {
   "cell_type": "code",
   "execution_count": 78,
   "id": "54af423c-d025-4ca0-8203-2596f0bddc7f",
   "metadata": {
    "tags": []
   },
   "outputs": [
    {
     "data": {
      "image/png": "[encoded data removed]",
      "text/plain": [
       "<Figure size 432x288 with 1 Axes>"
      ]
     },
     "metadata": {
      "needs_background": "light"
     },
     "output_type": "display_data"
    }
   ],
   "source": [
    "#모델이 예측한 값과 실체 값의 차이를 산점도를 이용하여 나타나였습니다.\n",
    "plt.scatter(test_y, svm_pre, color='black')\n",
    "plt.xlabel('Real Result')\n",
    "plt.ylabel('Predict Result')\n",
    "plt.show()"
   ]
  },
  {
   "cell_type": "code",
   "execution_count": 79,
   "id": "fe6d0203-cc49-46de-b525-707c5abe8326",
   "metadata": {
    "tags": []
   },
   "outputs": [
    {
     "data": {
      "text/plain": [
       "57.53839583022004"
      ]
     },
     "execution_count": 79,
     "metadata": {},
     "output_type": "execute_result"
    }
   ],
   "source": [
    "#평균 제곱 오차의 테스트 결과값이 test_y, 그리고 선형회귀 예측 모델을 이용해서 학습을 시켜 예상 결과가 담겨있는 res_pre\n",
    "#이 두 개를 비교하여 평균 제곱 오차를 한 수치를 나타낸 것 입니다.\n",
    "mse=mean_squared_error(test_y, svm_pre)\n",
    "rmse=np.sqrt(mse)\n",
    "rmse"
   ]
  },
  {
   "cell_type": "code",
   "execution_count": 80,
   "id": "41f6c8f9-9377-4089-a502-88b285b264e0",
   "metadata": {
    "tags": []
   },
   "outputs": [
    {
     "data": {
      "text/plain": [
       "3310.6669947150826"
      ]
     },
     "execution_count": 80,
     "metadata": {},
     "output_type": "execute_result"
    }
   ],
   "source": [
    "#평균 제곱 오차의 합 계산입니다.\n",
    "n = len(test_y)\n",
    "res_mse = ((test_y - svm_pre) ** 2).sum() / n\n",
    "res_mse"
   ]
  }
 ],
 "metadata": {
  "kernelspec": {
   "display_name": "Python 3 (ipykernel)",
   "language": "python",
   "name": "python3"
  },
  "language_info": {
   "codemirror_mode": {
    "name": "ipython",
    "version": 3
   },
   "file_extension": ".py",
   "mimetype": "text/x-python",
   "name": "python",
   "nbconvert_exporter": "python",
   "pygments_lexer": "ipython3",
   "version": "3.8.10"
  }
 },
 "nbformat": 4,
 "nbformat_minor": 5
}
