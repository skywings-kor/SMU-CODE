{
 "cells": [
  {
   "cell_type": "code",
   "execution_count": 7,
   "id": "bc7fe842-5a91-45de-a6ac-770aaf6123f2",
   "metadata": {
    "tags": []
   },
   "outputs": [],
   "source": [
    "#데이터 나누는 용도\n",
    "from sklearn.model_selection import train_test_split\n",
    "\n",
    "#데이터 불러오기\n",
    "from sklearn.datasets import load_breast_cancer\n",
    "\n",
    "#정확도를 구하기 위한 기능\n",
    "from sklearn.metrics import accuracy_score\n",
    "\n",
    "#knn알고리즘 모델 불러오기\n",
    "from sklearn.neighbors import KNeighborsClassifier\n",
    "\n",
    "#혼동행렬 기능\n",
    "from sklearn.metrics import confusion_matrix"
   ]
  },
  {
   "cell_type": "code",
   "execution_count": 8,
   "id": "fac63335-e654-4238-8ca0-fdebd66f5cbe",
   "metadata": {
    "tags": []
   },
   "outputs": [],
   "source": [
    "#암 데이터를 불러와서 cancer에 넣습니다\n",
    "cancer=load_breast_cancer()"
   ]
  },
  {
   "cell_type": "code",
   "execution_count": 9,
   "id": "10ba0600-efd9-4969-ad2f-b35de41bb019",
   "metadata": {
    "tags": []
   },
   "outputs": [
    {
     "name": "stdout",
     "output_type": "stream",
     "text": [
      "(455, 30)\n",
      "(114, 30)\n"
     ]
    }
   ],
   "source": [
    "#커스터마이징된 데이터 뭉치들 중 .data 는 수치, .target은 수치를 통한 결과(암 걸렸는지 안걸렸는지...)\n",
    "X=cancer.data\n",
    "y=cancer.target\n",
    "\n",
    "#여기 잘 조절하는 것도 accuracy 높이는데 도움됨(수업 때 얘기해주셨던 내용입니다)\n",
    "X_train,X_test,y_train,y_test= train_test_split(X,y,test_size=0.2,random_state=1004)\n",
    "\n",
    "\n",
    "print(X_train.shape)\n",
    "print(X_test.shape)"
   ]
  },
  {
   "cell_type": "code",
   "execution_count": 10,
   "id": "67282cc3-2ad1-43ea-81c4-dd14507e24a3",
   "metadata": {
    "tags": []
   },
   "outputs": [],
   "source": [
    "#knn 모델 셋팅을 불러와서 진행합니다. 근접도는 6칸까지 허용...\n",
    "knn = KNeighborsClassifier(n_neighbors=6)\n",
    "\n",
    "#학습 진행합니다\n",
    "knn.fit(X_train, y_train)\n",
    "\n",
    "#예측 진행합니다.\n",
    "y_pred = knn.predict(X_test)\n",
    "\n",
    "#테스트 데이터에 대한 정확도를 scores에 넣습니다\n",
    "scores = accuracy_score(y_test, y_pred)"
   ]
  },
  {
   "cell_type": "code",
   "execution_count": 11,
   "id": "8303c5ac-41ac-4ed9-b4f7-4da93f247558",
   "metadata": {
    "tags": []
   },
   "outputs": [
    {
     "name": "stdout",
     "output_type": "stream",
     "text": [
      "정확도-> 0.9035087719298246\n"
     ]
    }
   ],
   "source": [
    "#정확도 출력\n",
    "print(\"정확도->\",scores)"
   ]
  },
  {
   "cell_type": "code",
   "execution_count": 12,
   "id": "2a3d93da-95f3-4cd8-bbe8-6d4b1a8f099e",
   "metadata": {
    "tags": []
   },
   "outputs": [
    {
     "name": "stdout",
     "output_type": "stream",
     "text": [
      "[[45  6]\n",
      " [ 5 58]]\n"
     ]
    }
   ],
   "source": [
    "#분류 모델 성능을 평가하기 위한 혼동행렬을 예측한 값과 실제 값이랑 비교하여 표현합니다\n",
    "cf = confusion_matrix(y_test, y_pred)\n",
    "\n",
    "#45개의 데이터는 negative로 결과가 나온 인공지능이 예측한 값과 실제값이 일치하고\n",
    "#58개의 데이터는 postive로 결과가 나온 인공지능 예측한 값과 실제값이 일치한다는 뜻입니다.\n",
    "print(cf)"
   ]
  },
  {
   "cell_type": "code",
   "execution_count": null,
   "id": "724200cd-9d1b-4494-85b3-cdcf86281c17",
   "metadata": {},
   "outputs": [],
   "source": []
  }
 ],
 "metadata": {
  "kernelspec": {
   "display_name": "Python 3 (ipykernel)",
   "language": "python",
   "name": "python3"
  },
  "language_info": {
   "codemirror_mode": {
    "name": "ipython",
    "version": 3
   },
   "file_extension": ".py",
   "mimetype": "text/x-python",
   "name": "python",
   "nbconvert_exporter": "python",
   "pygments_lexer": "ipython3",
   "version": "3.8.10"
  }
 },
 "nbformat": 4,
 "nbformat_minor": 5
}
