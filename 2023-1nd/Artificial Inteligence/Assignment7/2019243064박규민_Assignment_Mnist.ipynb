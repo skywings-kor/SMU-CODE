{
 "cells": [
  {
   "cell_type": "code",
   "execution_count": 52,
   "id": "c491f3c3-9607-41b4-938a-3455783acd3c",
   "metadata": {
    "tags": []
   },
   "outputs": [],
   "source": [
    "#2019243064 박규민 - 컴퓨터공학부 3학년\n",
    "import tensorflow as tf\n",
    "import numpy as np\n",
    "import matplotlib.pyplot as plt"
   ]
  },
  {
   "cell_type": "code",
   "execution_count": 53,
   "id": "ba9a3466-ff77-4575-82ca-13cb86f61586",
   "metadata": {
    "tags": []
   },
   "outputs": [],
   "source": [
    "#11장 과제란에 적혀있는 모델 분류 기준 코드\n",
    "(x_train, y_train), (x_test, y_test) = tf.keras.datasets.mnist.load_data()"
   ]
  },
  {
   "cell_type": "code",
   "execution_count": 54,
   "id": "a7ad30d2-b45b-47f8-b943-98f505de19a7",
   "metadata": {
    "tags": []
   },
   "outputs": [],
   "source": [
    "#텐서플로우 모델 사용\n",
    "model = tf.keras.models.Sequential()"
   ]
  },
  {
   "cell_type": "code",
   "execution_count": 55,
   "id": "eb404597-31f3-48bb-9f00-58f77ed70159",
   "metadata": {},
   "outputs": [],
   "source": [
    "#일단 평탄화를 하여 이미지 들어가는 크기(차원) 조절\n",
    "model.add(tf.keras.layers.Flatten(input_shape=(28,28)))"
   ]
  },
  {
   "cell_type": "code",
   "execution_count": 56,
   "id": "513e427b-74d4-494a-9d30-b3f7d206c193",
   "metadata": {
    "tags": []
   },
   "outputs": [],
   "source": [
    "#처음에는 한 층만 했더니 accuracy가 80%까지가 한계라서, 두개의 층을 대신 밀접도를 너무 높이지 않게 하여 overfit 현상을 막으려하였고\n",
    "#활성화함수는 relu를 사용하였습니다(양수는 그대로 반환 & 음수는 0으로 반환 - 대중적...)\n",
    "model.add(tf.keras.layers.Dense(128,activation='relu'))\n",
    "model.add(tf.keras.layers.Dense(64,activation='relu'))"
   ]
  },
  {
   "cell_type": "code",
   "execution_count": 57,
   "id": "84bbdc5d-6c65-42db-8659-c33e2ef40446",
   "metadata": {
    "tags": []
   },
   "outputs": [],
   "source": [
    "#여러가지의 클래스를 분류하는 문제라서 softmax 함수를 활성화 함수로 사용하였습니다.\n",
    "model.add(tf.keras.layers.Dense(10,activation='softmax'))"
   ]
  },
  {
   "cell_type": "code",
   "execution_count": 58,
   "id": "e9eea86b-7d35-4382-84d5-3340ee02ec9e",
   "metadata": {
    "tags": []
   },
   "outputs": [
    {
     "name": "stdout",
     "output_type": "stream",
     "text": [
      "Model: \"sequential_3\"\n",
      "_________________________________________________________________\n",
      " Layer (type)                Output Shape              Param #   \n",
      "=================================================================\n",
      " flatten_3 (Flatten)         (None, 784)               0         \n",
      "                                                                 \n",
      " dense_8 (Dense)             (None, 128)               100480    \n",
      "                                                                 \n",
      " dense_9 (Dense)             (None, 64)                8256      \n",
      "                                                                 \n",
      " dense_10 (Dense)            (None, 10)                650       \n",
      "                                                                 \n",
      "=================================================================\n",
      "Total params: 109,386\n",
      "Trainable params: 109,386\n",
      "Non-trainable params: 0\n",
      "_________________________________________________________________\n"
     ]
    }
   ],
   "source": [
    "#층 쌓은 것이 잘 들어갔는지 확인!\n",
    "model.summary()"
   ]
  },
  {
   "cell_type": "code",
   "execution_count": 59,
   "id": "050a0724-1068-41a9-b44d-33ffb09f417e",
   "metadata": {
    "tags": []
   },
   "outputs": [],
   "source": [
    "#모델의 학습 과정을 설정하는 단계로서 저는 adam으로 가중치 업데이트 방법을 결정 & loss은 실제값과 예측값이 일치한지 확인하는 과정을 위해 다중 클래스 작업에서 쓰이는 loss 함수 사용\n",
    "#&정확도를 구하기 위해 accuracy를 이용한 평가지표\n",
    "model.compile(optimizer='adam', loss='sparse_categorical_crossentropy', metrics=['accuracy'])"
   ]
  },
  {
   "cell_type": "code",
   "execution_count": 60,
   "id": "bc8ee7ba-42b8-46c8-8a86-83319ef662b5",
   "metadata": {
    "tags": []
   },
   "outputs": [
    {
     "name": "stdout",
     "output_type": "stream",
     "text": [
      "Epoch 1/10\n",
      "938/938 [==============================] - 4s 4ms/step - loss: 2.7054 - accuracy: 0.8672\n",
      "Epoch 2/10\n",
      "938/938 [==============================] - 4s 4ms/step - loss: 0.4562 - accuracy: 0.9286\n",
      "Epoch 3/10\n",
      "938/938 [==============================] - 4s 4ms/step - loss: 0.2607 - accuracy: 0.9460\n",
      "Epoch 4/10\n",
      "938/938 [==============================] - 4s 4ms/step - loss: 0.1988 - accuracy: 0.9546\n",
      "Epoch 5/10\n",
      "938/938 [==============================] - 4s 5ms/step - loss: 0.1739 - accuracy: 0.9586\n",
      "Epoch 6/10\n",
      "938/938 [==============================] - 4s 5ms/step - loss: 0.1446 - accuracy: 0.9625\n",
      "Epoch 7/10\n",
      "938/938 [==============================] - 4s 4ms/step - loss: 0.1154 - accuracy: 0.9683\n",
      "Epoch 8/10\n",
      "938/938 [==============================] - 4s 4ms/step - loss: 0.1097 - accuracy: 0.9695\n",
      "Epoch 9/10\n",
      "938/938 [==============================] - 4s 5ms/step - loss: 0.0980 - accuracy: 0.9725\n",
      "Epoch 10/10\n",
      "938/938 [==============================] - 4s 5ms/step - loss: 0.0878 - accuracy: 0.9754\n"
     ]
    },
    {
     "data": {
      "text/plain": [
       "<keras.callbacks.History at 0x7f5aa38c19d0>"
      ]
     },
     "execution_count": 60,
     "metadata": {},
     "output_type": "execute_result"
    }
   ],
   "source": [
    "#학습 시작!! (학습을 완료하고 주석을 달았습니다!) - 사유: accuracy 결과가 제가 만족하지 않으면 다시 하는 불상사가 있었습니다..\n",
    "#교내 AI 서버 이용하여 진행하였어서 한번에 이미지 많이 넣게 하여 학습 속도를 빠르게 하였습니다.(batch_size)\n",
    "model.fit(x_train,y_train, batch_size=64, epochs=10)"
   ]
  },
  {
   "cell_type": "code",
   "execution_count": 61,
   "id": "9a4a221c-b1ac-43cb-b9af-53f5c5024284",
   "metadata": {
    "tags": []
   },
   "outputs": [
    {
     "name": "stdout",
     "output_type": "stream",
     "text": [
      "313/313 [==============================] - 1s 2ms/step\n"
     ]
    }
   ],
   "source": [
    "#예측 시작!\n",
    "ai_pre=model.predict(x_test)"
   ]
  },
  {
   "cell_type": "code",
   "execution_count": 66,
   "id": "c04bea71-9968-4600-b01e-33dafb37e3df",
   "metadata": {
    "tags": []
   },
   "outputs": [
    {
     "name": "stdout",
     "output_type": "stream",
     "text": [
      "313/313 [==============================] - 1s 4ms/step - loss: 0.1794 - accuracy: 0.9607\n"
     ]
    }
   ],
   "source": [
    "#모델 평가 시작!\n",
    "loss, accuracy = model.evaluate(x_test, y_test)"
   ]
  },
  {
   "cell_type": "code",
   "execution_count": 67,
   "id": "fb8be782-56aa-4ae6-b4b2-a045e7b5c62b",
   "metadata": {
    "tags": []
   },
   "outputs": [
    {
     "name": "stdout",
     "output_type": "stream",
     "text": [
      "0.9606999754905701\n"
     ]
    }
   ],
   "source": [
    "#정확도 (테스트 데이터들에 대한)\n",
    "print(accuracy)"
   ]
  },
  {
   "cell_type": "code",
   "execution_count": null,
   "id": "e61ea079-98c5-4836-8136-83096240a64f",
   "metadata": {},
   "outputs": [],
   "source": []
  }
 ],
 "metadata": {
  "kernelspec": {
   "display_name": "Python 3 (ipykernel)",
   "language": "python",
   "name": "python3"
  },
  "language_info": {
   "codemirror_mode": {
    "name": "ipython",
    "version": 3
   },
   "file_extension": ".py",
   "mimetype": "text/x-python",
   "name": "python",
   "nbconvert_exporter": "python",
   "pygments_lexer": "ipython3",
   "version": "3.8.10"
  }
 },
 "nbformat": 4,
 "nbformat_minor": 5
}
